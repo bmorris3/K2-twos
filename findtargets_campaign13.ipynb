{
 "cells": [
  {
   "cell_type": "markdown",
   "metadata": {},
   "source": [
    "# Finding K2-twos: Campaign 13\n",
    "\n",
    "### Outline\n",
    "\n",
    "* Query [2MASS All-Sky Point Source Catalog](http://irsa.ipac.caltech.edu/cgi-bin/Gator/nph-dd?catalog=fp_psc&mode=html&passproj&) for stars within: \n",
    "   \n",
    "   * [Campaign 11](http://keplerscience.arc.nasa.gov/images/campaign_selected/field11-final.png) RA~(275,250), Dec~(-15, -33)\n",
    "   * [Campaign 12](http://keplerscience.arc.nasa.gov/images/campaign_selected/field12-final.png) RA~(343,362), Dec~(3,-14)\n",
    "   * [Campaign 13](http://keplerscience.arc.nasa.gov/images/campaign_selected/field13-final.png) RA~(63,82), Dec~(12,29)\n",
    "\n",
    "* If limited to J mags $11<J<8$, this gives us ~7600 sources for Campaign 8. I'm advocating for 2MASS here because the bright limit for SDSS is too faint (\"bright limit is r~14.5\" according to my SDSS friend) compared to what we want for ground based spectroscopy.\n",
    "\n",
    "* Use approximate relations [the first Ecliptic Plane Input Catalog](https://archive.stsci.edu/k2/KSCI-19082-001.pdf) (based on the Appendix of [Howell et al. 2012](http://adsabs.harvard.edu/abs/2012ApJ...746..123H)) to convert 2MASS J, K to approximate Kepler magnitudes. \n",
    "\n",
    "Given $x=J-K$,\n",
    "\n",
    "$$ K_p = 0.42443603 + 3.7937617 x - 2.3267277 x^2 + 1.4602553 x^3 + K $$\n",
    "\n",
    "for all stars with $J-H > 0.75$ and $H-K > 0.1$ (approximate color cut for giants), and\n",
    "\n",
    "$$ K_p = 0.314377 + 3.85667 x + 3.176111 x^2 - 25.3126 x^3 + 40.7221 x^4 - 19.2112 x^5 + K $$\n",
    "\n",
    "for all remaining stars. \n",
    "\n",
    "* Use the [K2FOV tool](http://keplerscience.arc.nasa.gov/K2/ToolsK2FOV.shtml) to narrow that list down to just the stars that will fall on silicon in Campaign 11-13. \n",
    "\n",
    "* Use this list produced in (3) to search for pairs of bright stars with separations $<N$ arcsec\n",
    "\n",
    "* Sort by $K_p$, take top 999 sources."
   ]
  },
  {
   "cell_type": "markdown",
   "metadata": {},
   "source": [
    "### Import 2MASS PSC objects near the campaign FOV"
   ]
  },
  {
   "cell_type": "code",
   "execution_count": 2,
   "metadata": {
    "collapsed": false
   },
   "outputs": [
    {
     "ename": "IOError",
     "evalue": "[Errno 2] No such file or directory: 'IPACtables/IpacTableFromSource_C13tbl'",
     "output_type": "error",
     "traceback": [
      "\u001b[1;31m---------------------------------------------------------------------------\u001b[0m",
      "\u001b[1;31mIOError\u001b[0m                                   Traceback (most recent call last)",
      "\u001b[1;32m<ipython-input-2-d219809e12d1>\u001b[0m in \u001b[0;36m<module>\u001b[1;34m()\u001b[0m\n\u001b[0;32m     13\u001b[0m \u001b[0moutputdir\u001b[0m \u001b[1;33m=\u001b[0m \u001b[1;34m'campaign13/'\u001b[0m\u001b[1;33m\u001b[0m\u001b[0m\n\u001b[0;32m     14\u001b[0m \u001b[0mcampaign_number\u001b[0m \u001b[1;33m=\u001b[0m \u001b[1;36m13\u001b[0m\u001b[1;33m\u001b[0m\u001b[0m\n\u001b[1;32m---> 15\u001b[1;33m \u001b[0mtbl\u001b[0m \u001b[1;33m=\u001b[0m \u001b[0mascii\u001b[0m\u001b[1;33m.\u001b[0m\u001b[0mread\u001b[0m\u001b[1;33m(\u001b[0m\u001b[0mpath\u001b[0m\u001b[1;33m)\u001b[0m\u001b[1;33m\u001b[0m\u001b[0m\n\u001b[0m",
      "\u001b[1;32m/astro/users/bmmorris/.local/lib/python2.7/site-packages/astropy/io/ascii/ui.pyc\u001b[0m in \u001b[0;36mread\u001b[1;34m(table, guess, **kwargs)\u001b[0m\n\u001b[0;32m    309\u001b[0m         \u001b[1;31m# through below to the non-guess way so that any problems result in a\u001b[0m\u001b[1;33m\u001b[0m\u001b[1;33m\u001b[0m\u001b[0m\n\u001b[0;32m    310\u001b[0m         \u001b[1;31m# more useful traceback.\u001b[0m\u001b[1;33m\u001b[0m\u001b[1;33m\u001b[0m\u001b[0m\n\u001b[1;32m--> 311\u001b[1;33m         \u001b[0mdat\u001b[0m \u001b[1;33m=\u001b[0m \u001b[0m_guess\u001b[0m\u001b[1;33m(\u001b[0m\u001b[0mtable\u001b[0m\u001b[1;33m,\u001b[0m \u001b[0mnew_kwargs\u001b[0m\u001b[1;33m,\u001b[0m \u001b[0mformat\u001b[0m\u001b[1;33m,\u001b[0m \u001b[0mfast_reader_param\u001b[0m\u001b[1;33m)\u001b[0m\u001b[1;33m\u001b[0m\u001b[0m\n\u001b[0m\u001b[0;32m    312\u001b[0m         \u001b[1;32mif\u001b[0m \u001b[0mdat\u001b[0m \u001b[1;32mis\u001b[0m \u001b[0mNone\u001b[0m\u001b[1;33m:\u001b[0m\u001b[1;33m\u001b[0m\u001b[0m\n\u001b[0;32m    313\u001b[0m             \u001b[0mguess\u001b[0m \u001b[1;33m=\u001b[0m \u001b[0mFalse\u001b[0m\u001b[1;33m\u001b[0m\u001b[0m\n",
      "\u001b[1;32m/astro/users/bmmorris/.local/lib/python2.7/site-packages/astropy/io/ascii/ui.pyc\u001b[0m in \u001b[0;36m_guess\u001b[1;34m(table, read_kwargs, format, fast_reader)\u001b[0m\n\u001b[0;32m    440\u001b[0m             \u001b[0mreader\u001b[0m \u001b[1;33m=\u001b[0m \u001b[0mget_reader\u001b[0m\u001b[1;33m(\u001b[0m\u001b[1;33m**\u001b[0m\u001b[0mguess_kwargs\u001b[0m\u001b[1;33m)\u001b[0m\u001b[1;33m\u001b[0m\u001b[0m\n\u001b[0;32m    441\u001b[0m             \u001b[0mreader\u001b[0m\u001b[1;33m.\u001b[0m\u001b[0mguessing\u001b[0m \u001b[1;33m=\u001b[0m \u001b[0mTrue\u001b[0m\u001b[1;33m\u001b[0m\u001b[0m\n\u001b[1;32m--> 442\u001b[1;33m             \u001b[0mdat\u001b[0m \u001b[1;33m=\u001b[0m \u001b[0mreader\u001b[0m\u001b[1;33m.\u001b[0m\u001b[0mread\u001b[0m\u001b[1;33m(\u001b[0m\u001b[0mtable\u001b[0m\u001b[1;33m)\u001b[0m\u001b[1;33m\u001b[0m\u001b[0m\n\u001b[0m\u001b[0;32m    443\u001b[0m             _read_trace.append({'kwargs': guess_kwargs, 'status': 'Success (guessing)',\n\u001b[0;32m    444\u001b[0m                                 'dt': '{0:.3f} ms'.format((time.time() - t0) * 1000)})\n",
      "\u001b[1;32m/astro/users/bmmorris/.local/lib/python2.7/site-packages/astropy/io/ascii/core.pyc\u001b[0m in \u001b[0;36mread\u001b[1;34m(self, table)\u001b[0m\n\u001b[0;32m   1034\u001b[0m \u001b[1;33m\u001b[0m\u001b[0m\n\u001b[0;32m   1035\u001b[0m         \u001b[1;31m# Get a list of the lines (rows) in the table\u001b[0m\u001b[1;33m\u001b[0m\u001b[1;33m\u001b[0m\u001b[0m\n\u001b[1;32m-> 1036\u001b[1;33m         \u001b[0mself\u001b[0m\u001b[1;33m.\u001b[0m\u001b[0mlines\u001b[0m \u001b[1;33m=\u001b[0m \u001b[0mself\u001b[0m\u001b[1;33m.\u001b[0m\u001b[0minputter\u001b[0m\u001b[1;33m.\u001b[0m\u001b[0mget_lines\u001b[0m\u001b[1;33m(\u001b[0m\u001b[0mtable\u001b[0m\u001b[1;33m)\u001b[0m\u001b[1;33m\u001b[0m\u001b[0m\n\u001b[0m\u001b[0;32m   1037\u001b[0m \u001b[1;33m\u001b[0m\u001b[0m\n\u001b[0;32m   1038\u001b[0m         \u001b[1;31m# Set self.data.data_lines to a slice of lines contain the data rows\u001b[0m\u001b[1;33m\u001b[0m\u001b[1;33m\u001b[0m\u001b[0m\n",
      "\u001b[1;32m/astro/users/bmmorris/.local/lib/python2.7/site-packages/astropy/io/ascii/core.pyc\u001b[0m in \u001b[0;36mget_lines\u001b[1;34m(self, table)\u001b[0m\n\u001b[0;32m    180\u001b[0m             if (hasattr(table, 'read') or\n\u001b[0;32m    181\u001b[0m                     ('\\n' not in table + '' and '\\r' not in table + '')):\n\u001b[1;32m--> 182\u001b[1;33m                 \u001b[1;32mwith\u001b[0m \u001b[0mget_readable_fileobj\u001b[0m\u001b[1;33m(\u001b[0m\u001b[0mtable\u001b[0m\u001b[1;33m)\u001b[0m \u001b[1;32mas\u001b[0m \u001b[0mfile_obj\u001b[0m\u001b[1;33m:\u001b[0m\u001b[1;33m\u001b[0m\u001b[0m\n\u001b[0m\u001b[0;32m    183\u001b[0m                     \u001b[0mtable\u001b[0m \u001b[1;33m=\u001b[0m \u001b[0mfile_obj\u001b[0m\u001b[1;33m.\u001b[0m\u001b[0mread\u001b[0m\u001b[1;33m(\u001b[0m\u001b[1;33m)\u001b[0m\u001b[1;33m\u001b[0m\u001b[0m\n\u001b[0;32m    184\u001b[0m             \u001b[0mlines\u001b[0m \u001b[1;33m=\u001b[0m \u001b[0mtable\u001b[0m\u001b[1;33m.\u001b[0m\u001b[0msplitlines\u001b[0m\u001b[1;33m(\u001b[0m\u001b[1;33m)\u001b[0m\u001b[1;33m\u001b[0m\u001b[0m\n",
      "\u001b[1;32m/astro/apps6/anaconda2.0/lib/python2.7/contextlib.pyc\u001b[0m in \u001b[0;36m__enter__\u001b[1;34m(self)\u001b[0m\n\u001b[0;32m     15\u001b[0m     \u001b[1;32mdef\u001b[0m \u001b[0m__enter__\u001b[0m\u001b[1;33m(\u001b[0m\u001b[0mself\u001b[0m\u001b[1;33m)\u001b[0m\u001b[1;33m:\u001b[0m\u001b[1;33m\u001b[0m\u001b[0m\n\u001b[0;32m     16\u001b[0m         \u001b[1;32mtry\u001b[0m\u001b[1;33m:\u001b[0m\u001b[1;33m\u001b[0m\u001b[0m\n\u001b[1;32m---> 17\u001b[1;33m             \u001b[1;32mreturn\u001b[0m \u001b[0mself\u001b[0m\u001b[1;33m.\u001b[0m\u001b[0mgen\u001b[0m\u001b[1;33m.\u001b[0m\u001b[0mnext\u001b[0m\u001b[1;33m(\u001b[0m\u001b[1;33m)\u001b[0m\u001b[1;33m\u001b[0m\u001b[0m\n\u001b[0m\u001b[0;32m     18\u001b[0m         \u001b[1;32mexcept\u001b[0m \u001b[0mStopIteration\u001b[0m\u001b[1;33m:\u001b[0m\u001b[1;33m\u001b[0m\u001b[0m\n\u001b[0;32m     19\u001b[0m             \u001b[1;32mraise\u001b[0m \u001b[0mRuntimeError\u001b[0m\u001b[1;33m(\u001b[0m\u001b[1;34m\"generator didn't yield\"\u001b[0m\u001b[1;33m)\u001b[0m\u001b[1;33m\u001b[0m\u001b[0m\n",
      "\u001b[1;32m/astro/users/bmmorris/.local/lib/python2.7/site-packages/astropy/utils/data.pyc\u001b[0m in \u001b[0;36mget_readable_fileobj\u001b[1;34m(name_or_obj, encoding, cache, show_progress, remote_timeout)\u001b[0m\n\u001b[0;32m    200\u001b[0m             \u001b[0mfileobj\u001b[0m \u001b[1;33m=\u001b[0m \u001b[0mio\u001b[0m\u001b[1;33m.\u001b[0m\u001b[0mFileIO\u001b[0m\u001b[1;33m(\u001b[0m\u001b[0mname_or_obj\u001b[0m\u001b[1;33m,\u001b[0m \u001b[1;34m'r'\u001b[0m\u001b[1;33m)\u001b[0m\u001b[1;33m\u001b[0m\u001b[0m\n\u001b[0;32m    201\u001b[0m         \u001b[1;32melif\u001b[0m \u001b[0msix\u001b[0m\u001b[1;33m.\u001b[0m\u001b[0mPY2\u001b[0m\u001b[1;33m:\u001b[0m\u001b[1;33m\u001b[0m\u001b[0m\n\u001b[1;32m--> 202\u001b[1;33m             \u001b[0mfileobj\u001b[0m \u001b[1;33m=\u001b[0m \u001b[0mopen\u001b[0m\u001b[1;33m(\u001b[0m\u001b[0mname_or_obj\u001b[0m\u001b[1;33m,\u001b[0m \u001b[1;34m'rb'\u001b[0m\u001b[1;33m)\u001b[0m\u001b[1;33m\u001b[0m\u001b[0m\n\u001b[0m\u001b[0;32m    203\u001b[0m         \u001b[1;32mif\u001b[0m \u001b[0mis_url\u001b[0m \u001b[1;32mand\u001b[0m \u001b[1;32mnot\u001b[0m \u001b[0mcache\u001b[0m\u001b[1;33m:\u001b[0m\u001b[1;33m\u001b[0m\u001b[0m\n\u001b[0;32m    204\u001b[0m             \u001b[0mdelete_fds\u001b[0m\u001b[1;33m.\u001b[0m\u001b[0mappend\u001b[0m\u001b[1;33m(\u001b[0m\u001b[0mfileobj\u001b[0m\u001b[1;33m)\u001b[0m\u001b[1;33m\u001b[0m\u001b[0m\n",
      "\u001b[1;31mIOError\u001b[0m: [Errno 2] No such file or directory: 'IPACtables/IpacTableFromSource_C13tbl'"
     ]
    }
   ],
   "source": [
    "%matplotlib inline\n",
    "from astropy.io import ascii\n",
    "from astropy.table import Table, Column\n",
    "import numpy as np\n",
    "import matplotlib\n",
    "matplotlib.rcParams['font.size'] = 15\n",
    "import matplotlib.pyplot as plt\n",
    "from os import rename\n",
    "\n",
    "# 2MASS PSC Query: \n",
    "# ra >63 and ra <82 and dec >12 and dec <29 and j_m >0 and j_m <12\n",
    "path = 'IPACtables/IpacTableFromSource_C13tbl'\n",
    "outputdir = 'campaign13/'\n",
    "campaign_number = 13\n",
    "tbl = ascii.read(path)"
   ]
  },
  {
   "cell_type": "markdown",
   "metadata": {},
   "source": [
    "### Calculate approximate Kepler mag $K_p$, make cuts"
   ]
  },
  {
   "cell_type": "code",
   "execution_count": null,
   "metadata": {
    "collapsed": false
   },
   "outputs": [],
   "source": [
    "def JHK_to_Kp_giants(J, K):\n",
    "    '''\n",
    "    Convert 2MASS J, K to Kepler mag Kp for giant stars\n",
    "    with J−H>0.75 and H−K>0.1\n",
    "    '''\n",
    "    x = J - K\n",
    "    return 0.42443603 + 3.7937617*x - 2.3267277*x**2 + 1.4602553*x**3 + K\n",
    "\n",
    "def JHK_to_Kp_other(J, K):\n",
    "    '''\n",
    "    Convert 2MASS J, K to Kepler mag Kp for non-giant \n",
    "    stars with J−H<0.75 and H−K<0.1\n",
    "    '''\n",
    "    x = J - K\n",
    "    return 0.314377 + 3.85667*x + 3.176111*x**2 - 25.3126*x**3 + \\\n",
    "           40.7221*x**4 - 19.2112*x**5 + K\n",
    "\n",
    "Kp = np.zeros(len(tbl['j_m']))\n",
    "\n",
    "J = tbl['j_m']\n",
    "H = tbl['h_m']\n",
    "K = tbl['k_m']\n",
    "\n",
    "giant_stars = (J-H > 0.75)*(H-K>0.1) * (-0.2 < J-K)*(J-K < 1.2)\n",
    "other_stars = ~giant_stars * (-0.2 < J-K)*(J-K < 1.0) # logical not giants\n",
    "Kp[giant_stars] = JHK_to_Kp_giants(J[giant_stars], K[giant_stars])\n",
    "Kp[other_stars] = JHK_to_Kp_other(J[other_stars], K[other_stars])\n",
    "\n",
    "# Impose a Kp cut for those useful to us (and reasonable)\n",
    "useful = (6 < Kp)*(Kp < 12) * other_stars\n",
    "useful_tbl = tbl[useful]\n",
    "useful_tbl['Kp'] = Column(Kp[useful])\n",
    "\n",
    "def plotfield(tbl):\n",
    "    # Make colormap correspond to Kepler mag\n",
    "    colorscale = 1. / tbl['Kp']\n",
    "    colorscale = 2*colorscale/colorscale.max() - 1\n",
    "    \n",
    "    fig, ax = plt.subplots(1, 2, figsize=(16,6))\n",
    "    cm = plt.cm.binary\n",
    "    ax[0].scatter(tbl['ra'], tbl['dec'], marker='.', \n",
    "                  alpha=0.75, color=cm(colorscale))\n",
    "    ax[0].set_xlabel('RA')\n",
    "    ax[0].set_ylabel('Dec')\n",
    "\n",
    "    ax[1].hist(tbl['Kp'], 100, histtype='stepfilled',\n",
    "               color='w')\n",
    "    ax[1].set_ylabel('Number of candidates')\n",
    "    ax[1].set_xlabel('$K_p$')\n",
    "    plt.show()\n",
    "    \n",
    "plotfield(useful_tbl)"
   ]
  },
  {
   "cell_type": "code",
   "execution_count": null,
   "metadata": {
    "collapsed": false
   },
   "outputs": [],
   "source": [
    "# Write out current table to format for K2fov:\n",
    "k2fov_tbl = useful_tbl[['ra', 'dec', 'Kp']]\n",
    "outputpath = outputdir+'k2-twos.csv'\n",
    "ascii.write(k2fov_tbl, outputpath, delimiter=',', comment=False)\n",
    "\n",
    "# Remove the header from the file\n",
    "with open(outputpath, 'r') as out:\n",
    "    text = out.read().splitlines()\n",
    "    noheader = '\\n'.join(text[1:])\n",
    "with open(outputpath, 'w') as out:\n",
    "    out.write(noheader)"
   ]
  },
  {
   "cell_type": "markdown",
   "metadata": {},
   "source": [
    "### Run the tool for K2 visibility in Campaign"
   ]
  },
  {
   "cell_type": "code",
   "execution_count": null,
   "metadata": {
    "collapsed": false
   },
   "outputs": [],
   "source": [
    "import K2fov\n",
    "K2fov.K2onSilicon(outputpath, campaign_number)\n",
    "new_png_path = outputdir + 'targets_fov.png'\n",
    "new_targets_path = outputdir + 'targets_siliconFlag.csv'\n",
    "rename('targets_fov.png', new_png_path)\n",
    "rename('targets_siliconFlag.csv', new_targets_path)"
   ]
  },
  {
   "cell_type": "code",
   "execution_count": null,
   "metadata": {
    "collapsed": false
   },
   "outputs": [],
   "source": [
    "# Display output file\n",
    "from IPython.display import Image\n",
    "Image(filename=new_png_path) "
   ]
  },
  {
   "cell_type": "markdown",
   "metadata": {},
   "source": [
    "### Save list of RA, Dec, $K_p$ for available targets in `on_chip.csv`"
   ]
  },
  {
   "cell_type": "code",
   "execution_count": null,
   "metadata": {
    "collapsed": false
   },
   "outputs": [],
   "source": [
    "# Load flagged output file, make smaller file with just the \n",
    "# targets that fall on silicon called 'on_chip.csv'\n",
    "flagged_tbl = np.loadtxt(outputdir+'targets_siliconFlag.csv', delimiter=',')\n",
    "\n",
    "import astropy.units as u\n",
    "on_chip = Table(flagged_tbl[flagged_tbl[:,3] == 2][:,:3], \n",
    "                names=['ra','dec','Kp'])\n",
    "on_chip['ra'].unit = u.degree\n",
    "on_chip['dec'].unit = u.degree\n",
    "\n",
    "ascii.write(on_chip, outputdir+'on_chip.csv')"
   ]
  },
  {
   "cell_type": "markdown",
   "metadata": {},
   "source": [
    "### Show final targets for neighbor search"
   ]
  },
  {
   "cell_type": "code",
   "execution_count": null,
   "metadata": {
    "collapsed": false
   },
   "outputs": [],
   "source": [
    "plotfield(on_chip)"
   ]
  },
  {
   "cell_type": "markdown",
   "metadata": {},
   "source": [
    "# Now find pairs in the FOV: "
   ]
  },
  {
   "cell_type": "code",
   "execution_count": null,
   "metadata": {
    "collapsed": false
   },
   "outputs": [],
   "source": [
    "from astropy.coordinates import SkyCoord\n",
    "\n",
    "############################################################\n",
    "# Settings #################################################\n",
    "\n",
    "path = outputdir+'candidates_with_neighbors.txt' # output file name\n",
    "recalculate = True # Calculate or use precalculated table\n",
    "\n",
    "# Settings for the K2-two pairs\n",
    "pair_separation_limits = [2, 5] # Inner and outer angle in arcmin\n",
    "pair_delta_Kp = 2. # Maximum difference in Kepler magnitude\n",
    "\n",
    "# Precautions to avoid nearby contaminant stars\n",
    "contaminant_separation_limit = 0.5 # [arcmin] toss pairs with contaminants this close\n",
    "\n",
    "# Impose a late magnitude limit to tweak number of stars produced by final cut\n",
    "late_mag_limit = 11.8\n",
    "############################################################\n",
    "\n",
    "if recalculate:\n",
    "    on_chip = ascii.read(outputdir+'on_chip.csv')\n",
    "    on_chip = on_chip[on_chip['Kp'] < late_mag_limit]\n",
    "    on_chip['ra'].unit = u.degree\n",
    "    on_chip['dec'].unit = u.degree\n",
    "\n",
    "    has_neighbor = np.zeros(len(on_chip['ra'])).astype(bool)\n",
    "    N_neighbors = np.zeros(len(on_chip['ra']))\n",
    "    \n",
    "    # Store vectorized coordinates for all stars\n",
    "    allstarsonchip = SkyCoord(on_chip['ra'], on_chip['dec'])\n",
    "\n",
    "    for i, star in enumerate(on_chip):\n",
    "        ra, dec, Kp = list(star)\n",
    "        \n",
    "        # Calculate separation, mag difference between all stars\n",
    "        candidate = SkyCoord(ra, dec, unit=(u.degree, u.degree))\n",
    "        separations = candidate.separation(allstarsonchip).arcmin\n",
    "        deltaKp = np.abs(on_chip['Kp'] - Kp)\n",
    "        good_neighbors = ((separations > pair_separation_limits[0]) * \n",
    "                          (separations < pair_separation_limits[1]) *\n",
    "                          (deltaKp < pair_delta_Kp))\n",
    "        \n",
    "        # If any stars fall within separation+mag thresholds,                    \n",
    "        # check if either of the stars in the candidate pair has\n",
    "        # a bright star nearby that could fall into your slit\n",
    "        if np.sum(good_neighbors) > 0:\n",
    "            # State Farm is there.\n",
    "            N_neighbors[i] = np.sum(good_neighbors)\n",
    "            \n",
    "            no_contaminants = np.ones(np.sum(good_neighbors)).astype(bool)\n",
    "            for j, star in enumerate(on_chip[good_neighbors]):\n",
    "                ra, dec, Kp = list(star)\n",
    "                candidate_with_neighbor = SkyCoord(ra, dec, unit=(u.degree, u.degree))\n",
    "                separations = candidate_with_neighbor.separation(allstarsonchip).arcmin\n",
    "                any_contaminants = np.sum(separations < contaminant_separation_limit)\n",
    "                \n",
    "                if any_contaminants > 1:\n",
    "                    # There will always be at least one \"contaminant\" by this\n",
    "                    # definition (the target star), so trigger on >1\n",
    "                    no_contaminants[j] = False\n",
    "                    print(\"Excluding star at ({0},{1}) for nearby contaminant\".format(ra,dec))\n",
    "            \n",
    "            # If there are no nearby contaminants, mark this star as a valid\n",
    "            # candidate with a neighbor\n",
    "            if no_contaminants.all():\n",
    "                has_neighbor[i] = True\n",
    "    \n",
    "    candidates_with_neighbors = on_chip[has_neighbor]\n",
    "    candidates_with_neighbors.sort('Kp')\n",
    "    ascii.write(candidates_with_neighbors, path, delimiter='\\t')\n",
    "else:\n",
    "    candidates_with_neighbors = ascii.read(path)\n",
    "    \n",
    "plotfield(candidates_with_neighbors)"
   ]
  },
  {
   "cell_type": "code",
   "execution_count": null,
   "metadata": {
    "collapsed": false
   },
   "outputs": [],
   "source": [
    "fig, ax = plt.subplots()\n",
    "ax.hist(N_neighbors, histtype='stepfilled', log=True, \n",
    "        color='w')\n",
    "ax.set_xticks(range(5))\n",
    "ax.set_xlabel('Number of matches found')\n",
    "ax.set_ylabel('Frequency')\n",
    "ax.set_title('How many stars actually have\\nmore than one match?')\n",
    "plt.show()\n",
    "\n",
    "for i in range(5):\n",
    "    print(\"Number of stars with {0} matching comparisons: {1}\".format(i, \n",
    "          list(N_neighbors).count(i)))"
   ]
  },
  {
   "cell_type": "code",
   "execution_count": null,
   "metadata": {
    "collapsed": false
   },
   "outputs": [],
   "source": [
    "print 'Total targets:', len(candidates_with_neighbors)"
   ]
  },
  {
   "cell_type": "code",
   "execution_count": null,
   "metadata": {
    "collapsed": false
   },
   "outputs": [],
   "source": [
    "# Match up EPIC list with my list, fill in missing rows from EPIC list with my rows\n",
    "EPIC_list_path = outputdir+'EPIC_list.txt'\n",
    "EPIC_list = open(EPIC_list_path, 'r').read().split('\\n\\n')\n",
    "candidate_array = candidates_with_neighbors.as_array()\n",
    "final_list = []\n",
    "cadence = '30'\n",
    "for i, line in enumerate(EPIC_list):\n",
    "    if 'no rows' not in line and len(line) > 0:\n",
    "        final_list.append(line+'\\t'+cadence)\n",
    "    elif len(line) > 0:\n",
    "        my_row = list(candidate_array[i])\n",
    "        my_row.append(cadence)\n",
    "        final_list.append('\\t'.join(map(str, my_row)))\n",
    "        \n",
    "final_output_path = '{}campaign_{}_EPIC_list.txt'.format(outputdir, campaign_number)\n",
    "with open(final_output_path, 'w') as f:\n",
    "    f.write('\\n'.join(final_list))"
   ]
  },
  {
   "cell_type": "code",
   "execution_count": null,
   "metadata": {
    "collapsed": true
   },
   "outputs": [],
   "source": []
  }
 ],
 "metadata": {
  "kernelspec": {
   "display_name": "Python 2",
   "language": "python",
   "name": "python2"
  },
  "language_info": {
   "codemirror_mode": {
    "name": "ipython",
    "version": 2
   },
   "file_extension": ".py",
   "mimetype": "text/x-python",
   "name": "python",
   "nbconvert_exporter": "python",
   "pygments_lexer": "ipython2",
   "version": "2.7.11"
  }
 },
 "nbformat": 4,
 "nbformat_minor": 0
}
