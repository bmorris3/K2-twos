{
 "cells": [
  {
   "cell_type": "code",
   "execution_count": 1,
   "metadata": {
    "collapsed": false
   },
   "outputs": [
    {
     "name": "stdout",
     "output_type": "stream",
     "text": [
      "Your local copy of the exoplanets.org database is <7 days old. That'll do...\n"
     ]
    },
    {
     "name": "stderr",
     "output_type": "stream",
     "text": [
      "/Users/bmorris/anaconda/lib/python2.7/site-packages/pandas/io/parsers.py:1170: DtypeWarning: Columns (4,5,10,11,17,18,23,24,26,27,30,33,38,39,44,45,50,51,56,57,62,63,70,71,73,74,79,80,81,82,88,89,95,96,105,106,109,110,115,116,124,125,130,131,137,143,144,149,150,159,160,161,162,172,173,174,179,180,182,188,189,195,196,201,202,205,206,211,212,217,218,223,224,229,230,235,236,241,242,247,248,253,254,259,260,265,266,268,269,270,271,273,278,279,284,285,290,291,294,295,301,302,304,305,310,311) have mixed types. Specify dtype option on import or set low_memory=False.\n",
      "  data = self._reader.read(nrows)\n"
     ]
    }
   ],
   "source": [
    "%matplotlib inline\n",
    "import numpy as np\n",
    "import os\n",
    "from urllib import urlopen\n",
    "from matplotlib import pyplot as plt\n",
    "import pandas\n",
    "from datetime import datetime\n",
    "\n",
    "# Save the exoplanet.org database to the directory that this file is saved in\n",
    "exodbPath = os.path.dirname(os.path.abspath('.'))\n",
    "csvDatabaseName = os.path.join(exodbPath,'exoplanets.csv')  \n",
    "\n",
    "def lastupdate(path):\n",
    "    t = os.path.getmtime(path)\n",
    "    return datetime.fromtimestamp(t)\n",
    "\n",
    "def download(csvDatabaseName=csvDatabaseName):\n",
    "    '''\n",
    "    If there's a previously archived database pickle in this current working \n",
    "    directory then use it, if not, grab the data from exoplanets.org in one big\n",
    "    CSV file and make one. If the old archive is >14 days old, grab a fresh \n",
    "    version of the database from exoplanets.org.\n",
    "    '''\n",
    "\n",
    "    if not os.path.exists(csvDatabaseName):\n",
    "        print 'No local copy of exoplanets.org database. Downloading one...'\n",
    "        rawCSV = urlopen('http://www.exoplanets.org/csv-files/exoplanets.csv').read()\n",
    "        saveCSV = open(csvDatabaseName,'w')\n",
    "        saveCSV.write(rawCSV)\n",
    "        saveCSV.close()\n",
    "    else: \n",
    "        #If the local copy of the exoplanets.org database is >14 days old, \n",
    "        #download a new one\n",
    "        timesincemod = datetime.now() - lastupdate(csvDatabaseName)\n",
    "        Ndays = 7\n",
    "        if timesincemod.days > Ndays:\n",
    "            print('Your local copy of the exoplanets.org database is' + \n",
    "                  ' >{0} days old. Downloading a fresh one...'.format(Ndays))\n",
    "            rawCSV = urlopen(\n",
    "                  'http://www.exoplanets.org/csv-files/exoplanets.csv').read()\n",
    "            saveCSV = open(csvDatabaseName,'w')\n",
    "            saveCSV.write(rawCSV)\n",
    "            saveCSV.close()\n",
    "        else: \n",
    "            print('Your local copy of the exoplanets.org database is' + \n",
    "                  \" <{0} days old. That'll do...\".format(Ndays))\n",
    "    return pandas.read_csv(csvDatabaseName)\n",
    "\n",
    "def plottimestamp(axis, csvDatabaseName=csvDatabaseName, **kwargs):\n",
    "    '''\n",
    "    Add annotation to `axis` with the date of last exoplanets.org access\n",
    "    '''\n",
    "    t = lastupdate(csvDatabaseName).strftime('%Y-%m-%d')\n",
    "    note = 'exoplanets.org\\n{0}'.format(t)\n",
    "    axis.annotate(note, xy=(0.02, 0.98), xycoords='axes fraction',\n",
    "                  va='top', ha='left')\n",
    "\n",
    "# Download/load exoplanets.org database\n",
    "db = download()\n",
    "\n",
    "# Filter out the calculated values -- use empirical measurements only\n",
    "#Mp_measured = db.MASSREF != 'estimated from radius; see EOD documentation'\n",
    "#Rp_measured = (~db.RREF.isnull()) & (db.RREF != 'Calculated')"
   ]
  },
  {
   "cell_type": "code",
   "execution_count": 21,
   "metadata": {
    "collapsed": false
   },
   "outputs": [
    {
     "data": {
      "image/png": "[encoded data removed]",
      "text/plain": [
       "<matplotlib.figure.Figure at 0x10bd86d50>"
      ]
     },
     "metadata": {},
     "output_type": "display_data"
    }
   ],
   "source": [
    "# Find targets in Kepler planet database, and have Kepler magnitudes\n",
    "kepler_only = (db.KDE == True) & (~db.KP.isnull())\n",
    "\n",
    "fig, ax = plt.subplots()\n",
    "ax.hist(db[kepler_only].KP.values, 100, histtype='stepfilled',\n",
    "           color='w', range=[6,12])\n",
    "ax.set_ylabel('Number of candidates')\n",
    "ax.set_xlabel('$K_p$')\n",
    "plt.show()"
   ]
  },
  {
   "cell_type": "code",
   "execution_count": null,
   "metadata": {
    "collapsed": true
   },
   "outputs": [],
   "source": []
  }
 ],
 "metadata": {
  "kernelspec": {
   "display_name": "Python 2",
   "language": "python",
   "name": "python2"
  },
  "language_info": {
   "codemirror_mode": {
    "name": "ipython",
    "version": 2
   },
   "file_extension": ".py",
   "mimetype": "text/x-python",
   "name": "python",
   "nbconvert_exporter": "python",
   "pygments_lexer": "ipython2",
   "version": "2.7.10"
  }
 },
 "nbformat": 4,
 "nbformat_minor": 0
}
